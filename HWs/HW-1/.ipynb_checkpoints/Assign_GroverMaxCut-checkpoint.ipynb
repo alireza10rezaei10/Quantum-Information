{
 "cells": [
  {
   "cell_type": "markdown",
   "id": "e09da923-42a9-4770-a78b-d59cdffd4bf2",
   "metadata": {},
   "source": [
    "# Milad Norouzi 610103082\n",
    "# Alireza Rezaei 610103043"
   ]
  },
  {
   "cell_type": "markdown",
   "id": "39b0c416-0bbc-4d3e-9a71-dc0f57de7b10",
   "metadata": {},
   "source": [
    "# Assignment - Grover MaxCut\n",
    "\n",
    "The places where you have enter code are marked with `# YOUR CODE HERE`."
   ]
  },
  {
   "cell_type": "code",
   "execution_count": 1,
   "id": "68220420-d16c-4694-a2fa-dad2b0127efb",
   "metadata": {},
   "outputs": [],
   "source": [
    "import cirq\n",
    "from cirq import H, X, Y, Z, CX, inverse"
   ]
  },
  {
   "cell_type": "markdown",
   "id": "678288af-e2dc-4cbf-b51d-171e933a5735",
   "metadata": {},
   "source": [
    "## Question 1 (4 points)\n",
    "\n",
    "Write a function, `oracle010`, that implements an oracle that marks the state $|010 \\rangle$. The function `oracle010` has\n",
    "\n",
    "* input: `qq`, a 3-qubit register \n",
    "* returns: None\n",
    "\n",
    "The function should append a sequence of gates to `qq` to mark the state $|010\\rangle$ only. Don't append any measurements to `qq`.\n",
    "\n",
    "To help you test the function, we have provided the `grover_diffusion` and `grover` functions."
   ]
  },
  {
   "cell_type": "code",
   "execution_count": 62,
   "id": "d734c002-70e7-45ab-85a5-bedeb238e333",
   "metadata": {},
   "outputs": [],
   "source": [
    "def oracle010(qq):\n",
    "    yield X(qq[0])\n",
    "    yield X(qq[2])\n",
    "    yield Z(qq[2]).controlled_by(qq[0], qq[1])\n",
    "    yield X(qq[0])\n",
    "    yield X(qq[2])"
   ]
  },
  {
   "cell_type": "code",
   "execution_count": 63,
   "id": "79000a74-03ec-4324-8848-92bb0df651fc",
   "metadata": {},
   "outputs": [
    {
     "data": {
      "text/html": [
       "<pre style=\"overflow: auto; white-space: pre;\">0: ───X───@───X───\n",
       "          │\n",
       "1: ───────@───────\n",
       "          │\n",
       "2: ───X───@───X───</pre>"
      ],
      "text/plain": [
       "0: ───X───@───X───\n",
       "          │\n",
       "1: ───────@───────\n",
       "          │\n",
       "2: ───X───@───X───"
      ]
     },
     "execution_count": 63,
     "metadata": {},
     "output_type": "execute_result"
    }
   ],
   "source": [
    "# visualize your implemented gates\n",
    "qqTest = cirq.LineQubit.range(3)\n",
    "circuit = cirq.Circuit()\n",
    "circuit.append(oracle010(qqTest))\n",
    "circuit"
   ]
  },
  {
   "cell_type": "code",
   "execution_count": 64,
   "id": "5a1d83ad-ce7a-4ff8-9f1f-b821f3dbf39c",
   "metadata": {},
   "outputs": [],
   "source": [
    "# To check your solution, we need some to implement grover\n",
    "def grover_diffusion(qq,n):\n",
    "    yield H.on_each(*qq)\n",
    "    yield X.on_each(*qq)\n",
    "    yield Z(qq[n-1]).controlled_by(*(qq[0:n-1]))\n",
    "    yield X.on_each(*qq)\n",
    "    yield H.on_each(*qq)"
   ]
  },
  {
   "cell_type": "code",
   "execution_count": 65,
   "id": "7d075fdc-0be3-4a56-90d5-defeec7a7904",
   "metadata": {},
   "outputs": [],
   "source": [
    "def grover(trials_number):\n",
    "    n=3\n",
    "    qq = cirq.LineQubit.range(n)\n",
    "    circuit = cirq.Circuit()\n",
    "    circuit.append(H.on_each(*qq))  \n",
    "\n",
    "    for i in range(2):\n",
    "        circuit.append(oracle010(qq))\n",
    "        circuit.append(grover_diffusion(qq,n))\n",
    "    circuit.append(cirq.measure(*qq, key='result'))\n",
    "\n",
    "    # determine the statistics of the measurements\n",
    "    s = cirq.Simulator() \n",
    "    \n",
    "    samples = s.run(circuit, repetitions=trials_number)\n",
    "\n",
    "    def bitstring(bits):\n",
    "        return \"\".join(str(int(b)) for b in bits)\n",
    "\n",
    "    counts = samples.histogram(key=\"result\",fold_func=bitstring)\n",
    "    print(counts)\n",
    "    print(counts.get('010'))\n",
    "    return counts.get('010')"
   ]
  },
  {
   "cell_type": "code",
   "execution_count": 67,
   "id": "5e84d704-97bd-4e0e-bfb9-f630efaae45a",
   "metadata": {},
   "outputs": [
    {
     "name": "stdout",
     "output_type": "stream",
     "text": [
      "Counter({'010': 95, '101': 3, '111': 1, '000': 1})\n",
      "95\n"
     ]
    },
    {
     "data": {
      "text/plain": [
       "95"
      ]
     },
     "execution_count": 67,
     "metadata": {},
     "output_type": "execute_result"
    }
   ],
   "source": [
    "# run grover to test if your function gives the right answer\n",
    "grover(100)"
   ]
  },
  {
   "cell_type": "markdown",
   "id": "8f8c8cbd-4758-4921-badb-dd0f40decdae",
   "metadata": {},
   "source": [
    "## Question 2 (6 points)\n",
    "\n",
    "Write an oracle for the graph described below to check whether it admits a valid 2-coloring. \n",
    "\n",
    "The function `oracle2` has\n",
    "\n",
    "* input: `qq`, a 12-qubit register \n",
    "* returns: None\n",
    "\n",
    "The function should append a sequence of gates to `qq` to check for a valid coloring. Don't append any measurements to `qq`.\n",
    "\n",
    "You can test the oracle with the provided `grover_diffusion`, `grover` and `oracle_computation2` functions.\n",
    "\n",
    "\n",
    "\n",
    "$G$ has 5 vertices. Use qubits 0-4 for the vertices, 5-10 for the edges and 11 as the ancilla.\n",
    "\n",
    "The list of edges:\n",
    "(0,3)\n",
    "(0,4)\n",
    "(1,3)\n",
    "(1,4)\n",
    "(2,3)\n",
    "(2,4)\n"
   ]
  },
  {
   "cell_type": "code",
   "execution_count": 69,
   "id": "b073beea-4a60-49d5-b898-a70b67b7fa94",
   "metadata": {},
   "outputs": [],
   "source": [
    "def edge_check(qq, u, v, c):\n",
    "    yield CX(qq[u], qq[c])\n",
    "    yield CX(qq[v], qq[c])\n",
    "    \n",
    "def oracle2(qq):\n",
    "    edges = [(0,3), (0,4), (1,3), (1,4), (2,3), (2,4)]\n",
    "\n",
    "    for i, (u, v) in enumerate(edges):\n",
    "        edge_check(qq, u, v, 5+i)\n",
    "\n",
    "    for i in range(5, 11):\n",
    "        yield CX(qq[i], qq[11])\n",
    "\n",
    "    yield Z(qq[11])\n",
    "\n",
    "    for i in range(10, 4, -1):\n",
    "        yield CX(qq[i], qq[11])\n",
    "\n",
    "    for i, (u, v) in enumerate(reversed(edges)):\n",
    "        edge_check(qq, u, v, 10-i)"
   ]
  },
  {
   "cell_type": "code",
   "execution_count": 76,
   "id": "1607234a-1299-41a7-a82d-8d375c267313",
   "metadata": {},
   "outputs": [],
   "source": [
    "# We need some code so you can check your solution\n",
    "def oracle_computation2(qq):\n",
    "    yield oracle2(qq)\n",
    "    yield Z(qq[11])\n",
    "    yield inverse(oracle2(qq))       "
   ]
  },
  {
   "cell_type": "code",
   "execution_count": 77,
   "id": "659dfe77-5e3f-4247-b682-c99fed68004e",
   "metadata": {},
   "outputs": [],
   "source": [
    "def grover2(trials_number):    \n",
    "    import cirq\n",
    "    from cirq import X, H, Z, inverse, CX\n",
    "    s = cirq.Simulator()\n",
    "\n",
    "    qq = cirq.LineQubit.range(12)\n",
    "    n=5\n",
    "    \n",
    "    circuit = cirq.Circuit()\n",
    "    circuit.append(H.on_each(*(qq[0:n])))\n",
    "    for i in range(2):\n",
    "        circuit.append(oracle_computation2(qq))\n",
    "        circuit.append(grover_diffusion(qq,n))\n",
    "\n",
    "    circuit.append(cirq.measure(*(qq[0:n]), key='result'))\n",
    "\n",
    "    # determine the statistics of the measurements\n",
    "    samples = s.run(circuit, repetitions=trials_number)\n",
    "    result = samples.measurements[\"result\"]\n",
    "\n",
    "    def bitstring(bits):\n",
    "        return \"\".join(str(int(b)) for b in bits)\n",
    "\n",
    "    counts = samples.histogram(key=\"result\",fold_func=bitstring)\n",
    "    return counts"
   ]
  },
  {
   "cell_type": "code",
   "execution_count": 78,
   "id": "e1449988-13cb-4f9a-a9e7-fbc8c8a22395",
   "metadata": {},
   "outputs": [
    {
     "data": {
      "text/plain": [
       "Counter({'00011': 42,\n",
       "         '00111': 42,\n",
       "         '00100': 38,\n",
       "         '00010': 36,\n",
       "         '01111': 36,\n",
       "         '01010': 35,\n",
       "         '11000': 35,\n",
       "         '00101': 34,\n",
       "         '01000': 33,\n",
       "         '11011': 33,\n",
       "         '11111': 33,\n",
       "         '10000': 33,\n",
       "         '00110': 32,\n",
       "         '10101': 32,\n",
       "         '10111': 32,\n",
       "         '01101': 32,\n",
       "         '01110': 31,\n",
       "         '00001': 31,\n",
       "         '01001': 30,\n",
       "         '10011': 30,\n",
       "         '11101': 30,\n",
       "         '01100': 30,\n",
       "         '10100': 30,\n",
       "         '11001': 29,\n",
       "         '10001': 29,\n",
       "         '11010': 28,\n",
       "         '10110': 27,\n",
       "         '00000': 26,\n",
       "         '10010': 26,\n",
       "         '11100': 25,\n",
       "         '11110': 22,\n",
       "         '01011': 18})"
      ]
     },
     "execution_count": 78,
     "metadata": {},
     "output_type": "execute_result"
    }
   ],
   "source": [
    "#You can use this cell to test your solution\n",
    "shots=1000\n",
    "grover2(shots)"
   ]
  },
  {
   "cell_type": "markdown",
   "id": "6ec97e8a-be81-4838-8303-2d257c5591c7",
   "metadata": {},
   "source": [
    "## Question 3 (10 points)\n",
    "\n",
    "Write an oracle for the graph described below to check whether there exists a coloring with 4 edges connecting vertices with different colors.\n",
    "\n",
    "The function `oracle3` has\n",
    "\n",
    "* input: `qq`, a 14-qubit register \n",
    "* returns: None\n",
    "\n",
    "The function should append a sequence of gates to `qq` to check whether there exists a coloring with 4 edges connecting vertices with different colors. Don't append any measurements to `qq`.\n",
    "\n",
    "You can test the oracle with the provided `grover_diffusion`, `grover` and `oracle_computation3` functions.\n",
    "\n",
    "\n",
    "$G$ has 4 vertices. Use qubits 0-4 for the vertices, 5-9 for the edges, 10-12 for the addition and 13 as the ancilla.\n",
    "\n",
    "The list of edges: \n",
    "(0,1)\n",
    "(0,2)\n",
    "(0,3)\n",
    "(1,2)\n",
    "(1,3)"
   ]
  },
  {
   "cell_type": "code",
   "execution_count": 80,
   "id": "e88ad186-e604-4b6d-87b3-31b5890437c0",
   "metadata": {},
   "outputs": [],
   "source": [
    "def oracle3(qq):\n",
    "    edges = [(0,1), (0,2), (0,3), (1,2), (1,3)]\n",
    "\n",
    "    for i, (u, v) in enumerate(edges):\n",
    "        edge_check(qq, u, v, 5+i)\n",
    "\n",
    "    for i in range(5, 12):\n",
    "        yield CX(qq[i], qq[12])\n",
    "\n",
    "    yield Z(qq[12])\n",
    "\n",
    "    for i in range(10, 4, -1):\n",
    "        yield CX(qq[i], qq[11])\n",
    "\n",
    "    for i, (u, v) in enumerate(reversed(edges)):\n",
    "        edge_check(qq, u, v, 11-i)"
   ]
  },
  {
   "cell_type": "code",
   "execution_count": 81,
   "id": "966a99fd-6669-4d7f-a0ed-6d148824b9b8",
   "metadata": {},
   "outputs": [],
   "source": [
    "# We need some code so you can check your solution\n",
    "def oracle_computation3(qq):\n",
    "    yield oracle3(qq)\n",
    "    yield Z(qq[12])\n",
    "    yield inverse(oracle3(qq))       "
   ]
  },
  {
   "cell_type": "code",
   "execution_count": 82,
   "id": "377a14bd-deaa-4839-b595-f246b9075373",
   "metadata": {},
   "outputs": [],
   "source": [
    "import cirq\n",
    "from cirq import X, H, Z, inverse, CX, CCX\n",
    "    \n",
    "def grover3(trials_number):    \n",
    "    s = cirq.Simulator()\n",
    "\n",
    "    qq = cirq.LineQubit.range(14)\n",
    "    n=4\n",
    "\n",
    "    circuit = cirq.Circuit()\n",
    "    circuit.append(H.on_each(*(qq[0:n])))\n",
    "    for i in range(2):\n",
    "        circuit.append(oracle_computation3(qq))\n",
    "        circuit.append(grover_diffusion(qq,n))\n",
    "\n",
    "    circuit.append(cirq.measure(*(qq[0:n]), key='result'))\n",
    "\n",
    "    # determine the statistics of the measurements\n",
    "    samples = s.run(circuit, repetitions=trials_number)\n",
    "    result = samples.measurements[\"result\"]\n",
    "\n",
    "    def bitstring(bits):\n",
    "        return \"\".join(str(int(b)) for b in bits)\n",
    "\n",
    "    counts = samples.histogram(key=\"result\",fold_func=bitstring)\n",
    "    return counts"
   ]
  },
  {
   "cell_type": "code",
   "execution_count": 83,
   "id": "a15a07d2-8f76-4c57-ba7e-47a28c923c32",
   "metadata": {},
   "outputs": [
    {
     "data": {
      "text/plain": [
       "Counter({'0110': 77,\n",
       "         '0111': 75,\n",
       "         '1100': 73,\n",
       "         '0100': 72,\n",
       "         '1111': 66,\n",
       "         '1011': 66,\n",
       "         '1110': 66,\n",
       "         '1101': 60,\n",
       "         '0011': 60,\n",
       "         '0101': 59,\n",
       "         '1010': 57,\n",
       "         '1001': 57,\n",
       "         '0001': 55,\n",
       "         '0010': 54,\n",
       "         '1000': 54,\n",
       "         '0000': 49})"
      ]
     },
     "execution_count": 83,
     "metadata": {},
     "output_type": "execute_result"
    }
   ],
   "source": [
    "#You can use this cell to test your solution\n",
    "shots=1000\n",
    "grover3(shots)"
   ]
  },
  {
   "cell_type": "code",
   "execution_count": null,
   "id": "5f95c046-6250-4d6c-85c6-ddd852ee22c3",
   "metadata": {},
   "outputs": [],
   "source": []
  }
 ],
 "metadata": {
  "kernelspec": {
   "display_name": "Python 3 (ipykernel)",
   "language": "python",
   "name": "python3"
  },
  "language_info": {
   "codemirror_mode": {
    "name": "ipython",
    "version": 3
   },
   "file_extension": ".py",
   "mimetype": "text/x-python",
   "name": "python",
   "nbconvert_exporter": "python",
   "pygments_lexer": "ipython3",
   "version": "3.12.3"
  }
 },
 "nbformat": 4,
 "nbformat_minor": 5
}
