{
 "cells": [
  {
   "cell_type": "markdown",
   "metadata": {},
   "source": [
    "# Grover's Algorithm\n",
    "\n",
    "Grover's Search is one of the well-known quantum algorithms. Given an oracle which marks some of the elements in the search space, Grover's Algrorithm outputs the marked elements with high probability. \n",
    "\n",
    "The quantum circuit for the algorithm takes the form:\n",
    "\n",
    "<img src=\"../images/grover.png\" width=\"80%\" align=\"center\">\n",
    "\n",
    "Oracle is responsible for marking the elements, while Grover diffusion operator amplifies the probability of measuring the marked elements. They are applied interchangeably for $\\sqrt{N/k}$ times, where $N$ is the size of the searh space, and $k$ is the number of marked elements."
   ]
  },
  {
   "cell_type": "markdown",
   "metadata": {},
   "source": [
    "## Initialization \n",
    "\n",
    "The Grover's search starts with creating an equal superposition on all qubits. We start with implementing this step of the algorithm."
   ]
  },
  {
   "cell_type": "markdown",
   "metadata": {},
   "source": [
    "### Task 1 \n",
    "Create a 4-qubit circuit named `circuit` and apply a Hadamard gate on each qubit. Convince yourself about the correctness of the circuit by displaying it. Print the quantum state with `Simulator` without measurement."
   ]
  },
  {
   "cell_type": "code",
   "execution_count": 1,
   "metadata": {},
   "outputs": [
    {
     "name": "stdout",
     "output_type": "stream",
     "text": [
      "0: ───H───\n",
      "\n",
      "1: ───H───\n",
      "\n",
      "2: ───H───\n",
      "\n",
      "3: ───H───\n",
      "measurements: (no measurements)\n",
      "\n",
      "qubits: (cirq.LineQubit(0),)\n",
      "output vector: 0.707|0⟩ + 0.707|1⟩\n",
      "\n",
      "qubits: (cirq.LineQubit(1),)\n",
      "output vector: 0.707|0⟩ + 0.707|1⟩\n",
      "\n",
      "qubits: (cirq.LineQubit(2),)\n",
      "output vector: 0.707|0⟩ + 0.707|1⟩\n",
      "\n",
      "qubits: (cirq.LineQubit(3),)\n",
      "output vector: 0.707|0⟩ + 0.707|1⟩\n",
      "\n",
      "phase:\n",
      "output vector: |⟩\n",
      "0.25|0000⟩ + 0.25|0001⟩ + 0.25|0010⟩ + 0.25|0011⟩ + 0.25|0100⟩ + 0.25|0101⟩ + 0.25|0110⟩ + 0.25|0111⟩ + 0.25|1000⟩ + 0.25|1001⟩ + 0.25|1010⟩ + 0.25|1011⟩ + 0.25|1100⟩ + 0.25|1101⟩ + 0.25|1110⟩ + 0.25|1111⟩\n"
     ]
    }
   ],
   "source": [
    "import cirq\n",
    "\n",
    "# create the circuit\n",
    "circuit = cirq.Circuit()\n",
    "qubits = cirq.LineQubit.range(4)\n",
    "circuit.append(cirq.H.on_each(*qubits))\n",
    "\n",
    "# for displaying the circuit\n",
    "print(circuit)\n",
    "\n",
    "# to print the state\n",
    "s = cirq.Simulator()\n",
    "print(s.simulate(circuit))\n",
    "print(s.simulate(circuit).dirac_notation())"
   ]
  },
  {
   "cell_type": "markdown",
   "metadata": {},
   "source": [
    "## A simple oracle\n",
    "\n",
    "Here we will design a simple oracle, which marks the state $\\ket{1111}$. Here marking means to change the sign of state $\\ket{1111}$ to $-\\ket{1111}$, while leaving the other states unchanged. We know that the operator\n",
    "\n",
    "$$ Z = \\begin{bmatrix} 1 & 0 \\\\ 0 & -1 \\end{bmatrix}$$\n",
    "\n",
    "changes the state $\\ket{1}$ into $-\\ket{1}$. Even though stand-alone $Z$ gate applied to the third qubit changes the state $\\ket{1111}$ into -$\\ket{1111}$, it also changes, for example, the state $\\ket{0011}$ into -$\\ket{1011}$. On the other hand, we can design a multi-controlled $Z$ gate for our purpose: $Z$ gate is activated on the third qubit when the other qubits are in states $\\ket{1}$, i.e., $b_0=b_1=b_2 = 1$.\n"
   ]
  },
  {
   "cell_type": "markdown",
   "metadata": {},
   "source": [
    "Now we show how to implement this multiple-controlled gate. In order to apply $Z$ gate on the third qubit, we use `cirq.Z(qq[3])` and we control this gate with control on the remaining qubits with `cirq.Z(qq[3]).controlled_by(qq[0], qq[1], qq[2])`.  "
   ]
  },
  {
   "cell_type": "code",
   "execution_count": 2,
   "metadata": {},
   "outputs": [
    {
     "name": "stdout",
     "output_type": "stream",
     "text": [
      "0: ───@───\n",
      "      │\n",
      "1: ───@───\n",
      "      │\n",
      "2: ───@───\n",
      "      │\n",
      "3: ───Z───\n"
     ]
    }
   ],
   "source": [
    "import cirq\n",
    "\n",
    "qq = cirq.LineQubit.range(4)\n",
    "circuit = cirq.Circuit()\n",
    "\n",
    "CCCZ = cirq.Z(qq[3]).controlled_by(qq[0], qq[1], qq[2])\n",
    "# alternative version:\n",
    "# CCCZ = cirq.Z(qq[3]).controlled_by(*(qq[0:3]))\n",
    "circuit.append(CCCZ)\n",
    "\n",
    "print(circuit)"
   ]
  },
  {
   "cell_type": "markdown",
   "metadata": {},
   "source": [
    "#### Multi-controlled gates in general"
   ]
  },
  {
   "cell_type": "markdown",
   "metadata": {},
   "source": [
    "Alternatively, we can define a multi-controlled gate, and specify the target and control qubits later. This will be particularly useful, when the same gate will be used many times on a various collection of qubits."
   ]
  },
  {
   "cell_type": "code",
   "execution_count": 1,
   "metadata": {},
   "outputs": [
    {
     "name": "stdout",
     "output_type": "stream",
     "text": [
      "0: ───@───@───@───\n",
      "      │   │   │\n",
      "1: ───@───@───@───\n",
      "      │   │   │\n",
      "2: ───@───@───X───\n",
      "      │   │   │\n",
      "3: ───Z───X───@───\n"
     ]
    }
   ],
   "source": [
    "import cirq\n",
    "\n",
    "qq = cirq.LineQubit.range(4)\n",
    "circuit = cirq.Circuit()\n",
    "\n",
    "CCCZ = cirq.Z.controlled(3)\n",
    "CCCX = cirq.X.controlled(3)\n",
    "\n",
    "circuit.append(CCCZ(*qq))\n",
    "circuit.append(CCCX(*qq))\n",
    "circuit.append(CCCX(qq[0], qq[1], qq[3], qq[2]))\n",
    "\n",
    "print(circuit)"
   ]
  },
  {
   "cell_type": "markdown",
   "metadata": {},
   "source": [
    "Note that for `CCCZ`, the target qubit is not distinguished when displayed. This is because controlled $Z$ operator acts exactly the same independent of the chosen target qubit. This can be easily shown as `CCCZ` acts nontrivially (in case of basis states) only on $\\ket{1111}$ -- as you can see there is no way to distinguish which qubit is a target one from this form."
   ]
  },
  {
   "cell_type": "markdown",
   "metadata": {},
   "source": [
    "Note that a multi-controlled operator is not the same as several single-qubits controls. To see this, let us simulate the operators for both cases. To do so, we will compare the unitary matrices. To make matrices smaller and easier to compare, we will only compare 3-qubits operations."
   ]
  },
  {
   "cell_type": "code",
   "execution_count": 4,
   "metadata": {},
   "outputs": [
    {
     "name": "stdout",
     "output_type": "stream",
     "text": [
      "0: ───@───\n",
      "      │\n",
      "1: ───@───\n",
      "      │\n",
      "2: ───@───\n"
     ]
    }
   ],
   "source": [
    "print(circ_multi)"
   ]
  },
  {
   "cell_type": "code",
   "execution_count": 5,
   "metadata": {},
   "outputs": [
    {
     "name": "stdout",
     "output_type": "stream",
     "text": [
      "0: ───@───────\n",
      "      │\n",
      "1: ───┼───@───\n",
      "      │   │\n",
      "2: ───@───@───\n"
     ]
    }
   ],
   "source": [
    "print(circ_single)"
   ]
  },
  {
   "cell_type": "code",
   "execution_count": 3,
   "metadata": {},
   "outputs": [
    {
     "name": "stdout",
     "output_type": "stream",
     "text": [
      "[[ 1.+0.0000000e+00j  0.+0.0000000e+00j  0.+0.0000000e+00j\n",
      "   0.+0.0000000e+00j  0.+0.0000000e+00j  0.+0.0000000e+00j\n",
      "   0.+0.0000000e+00j  0.+0.0000000e+00j]\n",
      " [ 0.+0.0000000e+00j  1.+0.0000000e+00j  0.+0.0000000e+00j\n",
      "   0.+0.0000000e+00j  0.+0.0000000e+00j  0.+0.0000000e+00j\n",
      "   0.+0.0000000e+00j  0.+0.0000000e+00j]\n",
      " [ 0.+0.0000000e+00j  0.+0.0000000e+00j  1.+0.0000000e+00j\n",
      "   0.+0.0000000e+00j  0.+0.0000000e+00j  0.+0.0000000e+00j\n",
      "   0.+0.0000000e+00j  0.+0.0000000e+00j]\n",
      " [ 0.+0.0000000e+00j  0.+0.0000000e+00j  0.+0.0000000e+00j\n",
      "   1.+0.0000000e+00j  0.+0.0000000e+00j  0.+0.0000000e+00j\n",
      "   0.+0.0000000e+00j  0.+0.0000000e+00j]\n",
      " [ 0.+0.0000000e+00j  0.+0.0000000e+00j  0.+0.0000000e+00j\n",
      "   0.+0.0000000e+00j  1.+0.0000000e+00j  0.+0.0000000e+00j\n",
      "   0.+0.0000000e+00j  0.+0.0000000e+00j]\n",
      " [ 0.+0.0000000e+00j  0.+0.0000000e+00j  0.+0.0000000e+00j\n",
      "   0.+0.0000000e+00j  0.+0.0000000e+00j  1.+0.0000000e+00j\n",
      "   0.+0.0000000e+00j  0.+0.0000000e+00j]\n",
      " [ 0.+0.0000000e+00j  0.+0.0000000e+00j  0.+0.0000000e+00j\n",
      "   0.+0.0000000e+00j  0.+0.0000000e+00j  0.+0.0000000e+00j\n",
      "   1.+0.0000000e+00j  0.+0.0000000e+00j]\n",
      " [-0.+0.0000000e+00j -0.+0.0000000e+00j -0.+0.0000000e+00j\n",
      "  -0.+0.0000000e+00j -0.+0.0000000e+00j -0.+0.0000000e+00j\n",
      "  -0.+0.0000000e+00j -1.+1.2246468e-16j]]\n",
      "\n",
      "[[ 1.+0.j  0.+0.j  0.+0.j  0.+0.j  0.+0.j  0.+0.j  0.+0.j  0.+0.j]\n",
      " [ 0.+0.j  1.+0.j  0.+0.j  0.+0.j  0.+0.j  0.+0.j  0.+0.j  0.+0.j]\n",
      " [ 0.+0.j  0.+0.j  1.+0.j  0.+0.j  0.+0.j  0.+0.j  0.+0.j  0.+0.j]\n",
      " [-0.+0.j -0.+0.j -0.+0.j -1.+0.j -0.+0.j -0.+0.j -0.+0.j -0.+0.j]\n",
      " [ 0.+0.j  0.+0.j  0.+0.j  0.+0.j  1.+0.j  0.+0.j  0.+0.j  0.+0.j]\n",
      " [-0.+0.j -0.+0.j -0.+0.j -0.+0.j -0.+0.j -1.+0.j -0.+0.j -0.+0.j]\n",
      " [ 0.+0.j  0.+0.j  0.+0.j  0.+0.j  0.+0.j  0.+0.j  1.+0.j  0.+0.j]\n",
      " [ 0.-0.j  0.-0.j  0.-0.j  0.-0.j  0.-0.j  0.-0.j  0.-0.j  1.-0.j]]\n"
     ]
    }
   ],
   "source": [
    "import cirq\n",
    "from cirq import Z\n",
    "\n",
    "# z gate controlled by qubits 0 and 1\n",
    "qq = cirq.LineQubit.range(3)\n",
    "circ_multi = cirq.Circuit()\n",
    "circ_multi.append(Z(qq[2]).controlled_by(qq[0], qq[1]))\n",
    "\n",
    "qq = cirq.LineQubit.range(3)\n",
    "circ_single = cirq.Circuit()\n",
    "# z gate controlled by qubit 0\n",
    "circ_single.append(Z(qq[2]).controlled_by(qq[0]))\n",
    "# z gate controlled by qubit 1\n",
    "circ_single.append(Z(qq[2]).controlled_by(qq[1]))\n",
    "\n",
    "print(cirq.unitary(circ_multi))\n",
    "print()\n",
    "print(cirq.unitary(circ_single))"
   ]
  },
  {
   "cell_type": "markdown",
   "metadata": {},
   "source": [
    "Note that only the former has single $-1$ on the bottom-right corner (`j` stands for the imaginary unit)."
   ]
  },
  {
   "cell_type": "markdown",
   "metadata": {},
   "source": [
    "## The Grover's diffusion operator\n",
    "\n",
    "The Grover's diffusion (inversion) operator plays a vital role in the algorithm, as it amplifies the amplitude(s) of the marked element(s). It can be presented by the following unitary matrix:\n",
    "\n",
    "<img src=\"../images/44.png\" width=\"20%\" align=\"center\">\n",
    "    \n",
    "where $N$ is the dimension of the matrix. The implementation of this operator is known. Here is an example circuit given for four qubits $(N = 16)$.\n",
    "\n",
    "<img src=\"../images/grover_diffusion_operator.png\" width=\"50%\" align=\"center\">\n",
    "\n",
    "In general, one can apply Hadamard and $NOT$ gates to each qubit, and then use a multi-controlled $Z$ gate followed by the same $NOT$ and Hadamard gates. "
   ]
  },
  {
   "cell_type": "markdown",
   "metadata": {},
   "source": [
    "### Task 2 \n",
    "    \n",
    "Create a 3-qubit register and design the Grover diffusion operator based on the circuit above. Print the circuit and its matrix form by using `cirq.unitary`. Verify that the circuit by checking the entries of the matrix."
   ]
  },
  {
   "cell_type": "code",
   "execution_count": 6,
   "metadata": {},
   "outputs": [
    {
     "name": "stdout",
     "output_type": "stream",
     "text": [
      "0: ───H───X───@───X───H───\n",
      "              │\n",
      "1: ───H───X───@───X───H───\n",
      "              │\n",
      "2: ───H───X───@───X───H───\n",
      "On the diagonal: 0.75\n",
      "Outside the main diagonal: -0.25 \n",
      "\n",
      "[[ 0.75+1.5308085e-17j -0.25+1.5308085e-17j -0.25+1.5308085e-17j\n",
      "  -0.25+1.5308085e-17j -0.25+1.5308085e-17j -0.25+1.5308085e-17j\n",
      "  -0.25+1.5308085e-17j -0.25+1.5308085e-17j]\n",
      " [-0.25+1.5308085e-17j  0.75+1.5308085e-17j -0.25+1.5308085e-17j\n",
      "  -0.25+1.5308085e-17j -0.25+1.5308085e-17j -0.25+1.5308085e-17j\n",
      "  -0.25+1.5308085e-17j -0.25+1.5308085e-17j]\n",
      " [-0.25+1.5308085e-17j -0.25+1.5308085e-17j  0.75+1.5308085e-17j\n",
      "  -0.25+1.5308085e-17j -0.25+1.5308085e-17j -0.25+1.5308085e-17j\n",
      "  -0.25+1.5308085e-17j -0.25+1.5308085e-17j]\n",
      " [-0.25+1.5308085e-17j -0.25+1.5308085e-17j -0.25+1.5308085e-17j\n",
      "   0.75+1.5308085e-17j -0.25+1.5308085e-17j -0.25+1.5308085e-17j\n",
      "  -0.25+1.5308085e-17j -0.25+1.5308085e-17j]\n",
      " [-0.25+1.5308085e-17j -0.25+1.5308085e-17j -0.25+1.5308085e-17j\n",
      "  -0.25+1.5308085e-17j  0.75+1.5308085e-17j -0.25+1.5308085e-17j\n",
      "  -0.25+1.5308085e-17j -0.25+1.5308085e-17j]\n",
      " [-0.25+1.5308085e-17j -0.25+1.5308085e-17j -0.25+1.5308085e-17j\n",
      "  -0.25+1.5308085e-17j -0.25+1.5308085e-17j  0.75+1.5308085e-17j\n",
      "  -0.25+1.5308085e-17j -0.25+1.5308085e-17j]\n",
      " [-0.25+1.5308085e-17j -0.25+1.5308085e-17j -0.25+1.5308085e-17j\n",
      "  -0.25+1.5308085e-17j -0.25+1.5308085e-17j -0.25+1.5308085e-17j\n",
      "   0.75+1.5308085e-17j -0.25+1.5308085e-17j]\n",
      " [-0.25+1.5308085e-17j -0.25+1.5308085e-17j -0.25+1.5308085e-17j\n",
      "  -0.25+1.5308085e-17j -0.25+1.5308085e-17j -0.25+1.5308085e-17j\n",
      "  -0.25+1.5308085e-17j  0.75+1.5308085e-17j]]\n"
     ]
    }
   ],
   "source": [
    "import cirq\n",
    "from cirq import H, X, Z\n",
    "\n",
    "# create the circuit\n",
    "qq = cirq.LineQubit.range(3)\n",
    "circuit = cirq.Circuit()\n",
    "circuit.append(H.on_each(*qq))\n",
    "circuit.append(X.on_each(*qq))\n",
    "circuit.append(Z(qq[2]).controlled_by(qq[0], qq[1]))\n",
    "circuit.append(X.on_each(*qq))\n",
    "circuit.append(H.on_each(*qq))\n",
    "\n",
    "# display the circuit\n",
    "print(circuit)\n",
    "\n",
    "# Print the unitary matrix. Note that on the entries on the diagonal should equal 1-2/N = 3/4, \n",
    "# while for the outer-diagonal it should be -2/N = 1/4 =0.125\n",
    "\n",
    "N = 2**3\n",
    "print(\"On the diagonal:\", 1-2/N)\n",
    "print(\"Outside the main diagonal:\", -2/N, \"\\n\")\n",
    "print(cirq.unitary(circuit))"
   ]
  },
  {
   "cell_type": "markdown",
   "metadata": {},
   "source": [
    "## Grover's Algorithm\n",
    "\n",
    "Finally, we are ready to implement the Grover's Algorithm. Let us consider the Grover's Search for four qubits with proposed simplified oracle. We make an initialization, then for $\\pi\\sqrt{2^4}/4\\approx 3$ times implement  the oracle (the one we prepared before) and the diffusion operator alternately. Eventually, the state 1111 should be measured more often than the other basis states. "
   ]
  },
  {
   "cell_type": "markdown",
   "metadata": {},
   "source": [
    "### Task 3\n",
    "\n",
    "Fill the `oracle` and `grover_diffusion` so that they will form a 4-qubit Grover's algorithm. You can use the code from previous tasks. Verify the results by analyzing the statistics of the measurements. Note you can use `yield` for sending consecutive gates. "
   ]
  },
  {
   "cell_type": "code",
   "execution_count": 7,
   "metadata": {},
   "outputs": [
    {
     "name": "stdout",
     "output_type": "stream",
     "text": [
      "Measurement output:  Counter({'1111': 969, '1000': 5, '1011': 4, '0000': 4, '1010': 2, '0001': 2, '0101': 2, '1101': 2, '0100': 2, '0110': 2, '0111': 1, '0011': 1, '0010': 1, '1110': 1, '1100': 1, '1001': 1})\n",
      "Probability of measuring 1111:  0.969\n",
      "Probability of not measuring 1111:  0.031000000000000028\n"
     ]
    }
   ],
   "source": [
    "import cirq\n",
    "from cirq import H, Z, X\n",
    "\n",
    "qq = cirq.LineQubit.range(4)\n",
    "circuit = cirq.Circuit()\n",
    "circuit.append(H.on_each(*qq))\n",
    "\n",
    "def oracle():\n",
    "    yield Z(qq[3]).controlled_by(*(qq[0:3]))\n",
    "\n",
    "\n",
    "def grover_diffusion():\n",
    "    yield H.on_each(*qq)\n",
    "    yield X.on_each(*qq)\n",
    "    yield Z(qq[3]).controlled_by(*(qq[0:3]))\n",
    "    yield X.on_each(*qq)\n",
    "    yield H.on_each(*qq)\n",
    "\n",
    "for i in range(3):\n",
    "    circuit.append(oracle())\n",
    "    circuit.append(grover_diffusion())\n",
    "\n",
    "circuit.append(cirq.measure(*qq, key='result'))\n",
    "    \n",
    "# determine the statistics of the measurements\n",
    "s = cirq.Simulator() \n",
    "trials_number = 1000\n",
    "samples = s.run(circuit, repetitions=trials_number)\n",
    "\n",
    "def bitstring(bits):\n",
    "    return \"\".join(str(int(b)) for b in bits)\n",
    "\n",
    "counts = samples.histogram(key=\"result\",fold_func=bitstring)\n",
    "\n",
    "print(\"Measurement output: \", counts)\n",
    "print(\"Probability of measuring 1111: \", counts.get('1111')/trials_number)\n",
    "print(\"Probability of not measuring 1111: \", 1- counts.get('1111')/trials_number)"
   ]
  },
  {
   "cell_type": "code",
   "execution_count": 8,
   "metadata": {},
   "outputs": [
    {
     "name": "stdout",
     "output_type": "stream",
     "text": [
      "0: ───H───@───H───X───@───X───H───@───H───X───@───X───H───@───H───X───@───X───H───M('result')───\n",
      "          │           │           │           │           │           │           │\n",
      "1: ───H───@───H───X───@───X───H───@───H───X───@───X───H───@───H───X───@───X───H───M─────────────\n",
      "          │           │           │           │           │           │           │\n",
      "2: ───H───@───H───X───@───X───H───@───H───X───@───X───H───@───H───X───@───X───H───M─────────────\n",
      "          │           │           │           │           │           │           │\n",
      "3: ───H───Z───H───X───Z───X───H───Z───H───X───Z───X───H───Z───H───X───Z───X───H───M─────────────\n"
     ]
    }
   ],
   "source": [
    "print(circuit)"
   ]
  },
  {
   "cell_type": "markdown",
   "metadata": {},
   "source": [
    "## Are we done?\n",
    "\n",
    "We have just implemented the Grover's search algorithm finding 1111 label in $\\approx \\pi\\sqrt{N}/4$ time. In this example, we have implemented a very simple oracle which required using the knowledge about the element we were searching for.\n",
    "\n",
    "In the next lessons, we will implement less trivial oracles and use Grover's Algorithm to help us in finding out the solution of a harder problem."
   ]
  }
 ],
 "metadata": {
  "kernelspec": {
   "display_name": "Python 3 (ipykernel)",
   "language": "python",
   "name": "python3"
  },
  "language_info": {
   "codemirror_mode": {
    "name": "ipython",
    "version": 3
   },
   "file_extension": ".py",
   "mimetype": "text/x-python",
   "name": "python",
   "nbconvert_exporter": "python",
   "pygments_lexer": "ipython3",
   "version": "3.8.20"
  }
 },
 "nbformat": 4,
 "nbformat_minor": 4
}
