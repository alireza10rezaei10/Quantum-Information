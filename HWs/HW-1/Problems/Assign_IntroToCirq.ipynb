{
 "cells": [
  {
   "cell_type": "markdown",
   "id": "9d0b4c5e-4442-4485-87b4-364a45b1c185",
   "metadata": {},
   "source": [
    "# Assignment - Intro To Cirq\n",
    "\n",
    "The places where you have enter code are marked with `# YOUR CODE HERE`."
   ]
  },
  {
   "cell_type": "markdown",
   "id": "568c8d99-c8e0-4437-a465-dfb2ad13d86c",
   "metadata": {},
   "source": [
    "## Question 1 (3 points)\n",
    "\n",
    "Implement the function `create_circuit_1` that has\n",
    "\n",
    "* Inputs: None\n",
    "* Returns: a `cirq.Circuit` object of 5 qubits.\n",
    "\n",
    "The function implements, in order, the following operations:\n",
    "\n",
    "1. Construct a quantum circuit with 5 qubits.\n",
    "2. Apply the $H$ gate to each qubit.\n",
    "3. Apply the $Z$ gate to qubits in position 0,2 and 4.\n",
    "4. Apply the $H$ gate to each qubit.\n"
   ]
  },
  {
   "cell_type": "code",
   "execution_count": null,
   "id": "d0c16293-6441-4e6e-9f2f-073b25dbeabe",
   "metadata": {},
   "outputs": [],
   "source": [
    "import cirq\n",
    "from cirq import H, Z\n",
    "\n",
    "def create_circuit_1(): \n",
    "\n",
    "    circuit = cirq.Circuit()\n",
    "    # Do not modify anything above\n",
    "    \n",
    "    # YOUR CODE HERE\n",
    "\n",
    "    # Do not modify anything below\n",
    "    return circuit"
   ]
  },
  {
   "cell_type": "code",
   "execution_count": null,
   "id": "0f26fae1-d8c9-47fb-9a05-6b5384c99e07",
   "metadata": {},
   "outputs": [],
   "source": [
    "# You can check your code by running this cell\n",
    "circuit = create_circuit_1()\n",
    "print(circuit)"
   ]
  },
  {
   "cell_type": "markdown",
   "id": "d361609d-1fa9-415f-928d-c57c97d7b174",
   "metadata": {},
   "source": [
    "## Question 2 (4 points)\n",
    "\n",
    "Implement the function `create_circuit_2` that has \n",
    "\n",
    "* Inputs: None\n",
    "* Returns: (1) a `cirq.Circuit` object of 5 qubits, (2) measurement results of the circuit for 1000 iterations (a `collections.Counter` object).\n",
    "\n",
    "The function implements, in order, the following operations:\n",
    "\n",
    "1. Construct a quantum circuit with 5 qubits.\n",
    "2. Apply the $H$ gate to each qubit\n",
    "3. Apply $NOT$ gate to qubit in position 0 controlled by the other qubits. (1,2,3,4)\n",
    "4. Measure qubit 0\n",
    "5. Run your circuit for 1000 times\n",
    "\n",
    "\n",
    "\n",
    "You should observe 0 and 1 almost with equal probability."
   ]
  },
  {
   "cell_type": "code",
   "execution_count": null,
   "id": "a749f202-67ea-4f5d-b4a5-cc89dafc4eb6",
   "metadata": {},
   "outputs": [],
   "source": [
    "import cirq\n",
    "from cirq import X, H, measure\n",
    "\n",
    "def create_circuit_2():\n",
    "    \n",
    "    circuit = cirq.Circuit()\n",
    "    # Do not modify anything above\n",
    "    \n",
    "    # YOUR CODE HERE\n",
    "    \n",
    "    # Do not modify anything below\n",
    "    \n",
    "    result = samples.histogram(key='result')\n",
    "    return circuit, result"
   ]
  },
  {
   "cell_type": "code",
   "execution_count": null,
   "id": "b2263560-1d10-4ad6-953e-f057f8018cfb",
   "metadata": {},
   "outputs": [],
   "source": [
    "# You can check your code by running this cell\n",
    "circuit, result = create_circuit_2()\n",
    "print(circuit)\n",
    "print(result)"
   ]
  },
  {
   "cell_type": "markdown",
   "id": "093828c5-9ca9-476f-adda-52b87ef7beb8",
   "metadata": {},
   "source": [
    "## Question 3 (3 points)\n",
    "\n",
    "\n",
    "Implement the function `create_circuit_3` \n",
    "\n",
    "* Inputs: None\n",
    "* Returns: (1) a `cirq.Circuit` object of 2 qubits, (2) a `numpy.ndarray` object that is the unitary matrix associated with the circuit.\n",
    "\n",
    "The function implements, in order, the following operations:\n",
    "\n",
    "1. Construct a quantum circuit with 2 qubits.\n",
    "2. Apply $CNOT$ gate where qubit 0 is the control and qubit 1 is the target qubit\n",
    "3. Apply $CNOT$ gate where qubit 1 is the control and qubit 0 is the target qubit\n",
    "4. Apply $CNOT$ gate where qubit 0 is the control and qubit 1 is the target qubit\n",
    "5. Obtain the unitary matrix representation of your circuit.\n",
    "\n",
    "_Note: The circuit you implemented swaps the qubits 0 and 1._"
   ]
  },
  {
   "cell_type": "code",
   "execution_count": null,
   "id": "75ee3d23-8c50-4ed0-867d-3a8e182ce90a",
   "metadata": {},
   "outputs": [],
   "source": [
    "import cirq\n",
    "from cirq import CX\n",
    "\n",
    "def create_circuit_3():\n",
    "    \n",
    "    circuit = cirq.Circuit()\n",
    "    # Do not modify anything above\n",
    "    \n",
    "    # YOUR CODE HERE\n",
    "    \n",
    "    # Do not modify anything below\n",
    "\n",
    "    return circuit, unitary_matrix"
   ]
  },
  {
   "cell_type": "code",
   "execution_count": null,
   "id": "6a562aed-0d04-4395-af38-335210b3f8c6",
   "metadata": {},
   "outputs": [],
   "source": [
    "# You can check your code here by printing the circuit and the matrix\n",
    "circuit, matrix = create_circuit_3()\n",
    "print(circuit)\n",
    "print(matrix)"
   ]
  }
 ],
 "metadata": {
  "kernelspec": {
   "display_name": "Python 3 (ipykernel)",
   "language": "python",
   "name": "python3"
  },
  "language_info": {
   "codemirror_mode": {
    "name": "ipython",
    "version": 3
   },
   "file_extension": ".py",
   "mimetype": "text/x-python",
   "name": "python",
   "nbconvert_exporter": "python",
   "pygments_lexer": "ipython3",
   "version": "3.8.20"
  }
 },
 "nbformat": 4,
 "nbformat_minor": 5
}
